{
 "cells": [
  {
   "cell_type": "code",
   "execution_count": 1,
   "id": "4910e4af",
   "metadata": {
    "_cell_guid": "b1076dfc-b9ad-4769-8c92-a6c4dae69d19",
    "_uuid": "8f2839f25d086af736a60e9eeb907d3b93b6e0e5",
    "execution": {
     "iopub.execute_input": "2025-06-22T03:46:07.690354Z",
     "iopub.status.busy": "2025-06-22T03:46:07.690150Z",
     "iopub.status.idle": "2025-06-22T03:46:11.647949Z",
     "shell.execute_reply": "2025-06-22T03:46:11.646940Z"
    },
    "papermill": {
     "duration": 3.962979,
     "end_time": "2025-06-22T03:46:11.649422",
     "exception": false,
     "start_time": "2025-06-22T03:46:07.686443",
     "status": "completed"
    },
    "tags": []
   },
   "outputs": [
    {
     "name": "stdout",
     "output_type": "stream",
     "text": [
      "Requirement already satisfied: numpy in /usr/local/lib/python3.11/dist-packages (1.26.4)\r\n",
      "Requirement already satisfied: pandas in /usr/local/lib/python3.11/dist-packages (2.2.3)\r\n",
      "Requirement already satisfied: matplotlib in /usr/local/lib/python3.11/dist-packages (3.7.2)\r\n",
      "Requirement already satisfied: scikit-learn in /usr/local/lib/python3.11/dist-packages (1.2.2)\r\n",
      "Requirement already satisfied: tensorflow in /usr/local/lib/python3.11/dist-packages (2.18.0)\r\n",
      "Requirement already satisfied: mkl_fft in /usr/local/lib/python3.11/dist-packages (from numpy) (1.3.8)\r\n",
      "Requirement already satisfied: mkl_random in /usr/local/lib/python3.11/dist-packages (from numpy) (1.2.4)\r\n",
      "Requirement already satisfied: mkl_umath in /usr/local/lib/python3.11/dist-packages (from numpy) (0.1.1)\r\n",
      "Requirement already satisfied: mkl in /usr/local/lib/python3.11/dist-packages (from numpy) (2025.1.0)\r\n",
      "Requirement already satisfied: tbb4py in /usr/local/lib/python3.11/dist-packages (from numpy) (2022.1.0)\r\n",
      "Requirement already satisfied: mkl-service in /usr/local/lib/python3.11/dist-packages (from numpy) (2.4.1)\r\n",
      "Requirement already satisfied: python-dateutil>=2.8.2 in /usr/local/lib/python3.11/dist-packages (from pandas) (2.9.0.post0)\r\n",
      "Requirement already satisfied: pytz>=2020.1 in /usr/local/lib/python3.11/dist-packages (from pandas) (2025.2)\r\n",
      "Requirement already satisfied: tzdata>=2022.7 in /usr/local/lib/python3.11/dist-packages (from pandas) (2025.2)\r\n",
      "Requirement already satisfied: contourpy>=1.0.1 in /usr/local/lib/python3.11/dist-packages (from matplotlib) (1.3.1)\r\n",
      "Requirement already satisfied: cycler>=0.10 in /usr/local/lib/python3.11/dist-packages (from matplotlib) (0.12.1)\r\n",
      "Requirement already satisfied: fonttools>=4.22.0 in /usr/local/lib/python3.11/dist-packages (from matplotlib) (4.57.0)\r\n",
      "Requirement already satisfied: kiwisolver>=1.0.1 in /usr/local/lib/python3.11/dist-packages (from matplotlib) (1.4.8)\r\n",
      "Requirement already satisfied: packaging>=20.0 in /usr/local/lib/python3.11/dist-packages (from matplotlib) (25.0)\r\n",
      "Requirement already satisfied: pillow>=6.2.0 in /usr/local/lib/python3.11/dist-packages (from matplotlib) (11.1.0)\r\n",
      "Requirement already satisfied: pyparsing<3.1,>=2.3.1 in /usr/local/lib/python3.11/dist-packages (from matplotlib) (3.0.9)\r\n",
      "Requirement already satisfied: scipy>=1.3.2 in /usr/local/lib/python3.11/dist-packages (from scikit-learn) (1.15.2)\r\n",
      "Requirement already satisfied: joblib>=1.1.1 in /usr/local/lib/python3.11/dist-packages (from scikit-learn) (1.5.0)\r\n",
      "Requirement already satisfied: threadpoolctl>=2.0.0 in /usr/local/lib/python3.11/dist-packages (from scikit-learn) (3.6.0)\r\n",
      "Requirement already satisfied: absl-py>=1.0.0 in /usr/local/lib/python3.11/dist-packages (from tensorflow) (1.4.0)\r\n",
      "Requirement already satisfied: astunparse>=1.6.0 in /usr/local/lib/python3.11/dist-packages (from tensorflow) (1.6.3)\r\n",
      "Requirement already satisfied: flatbuffers>=24.3.25 in /usr/local/lib/python3.11/dist-packages (from tensorflow) (25.2.10)\r\n",
      "Requirement already satisfied: gast!=0.5.0,!=0.5.1,!=0.5.2,>=0.2.1 in /usr/local/lib/python3.11/dist-packages (from tensorflow) (0.6.0)\r\n",
      "Requirement already satisfied: google-pasta>=0.1.1 in /usr/local/lib/python3.11/dist-packages (from tensorflow) (0.2.0)\r\n",
      "Requirement already satisfied: libclang>=13.0.0 in /usr/local/lib/python3.11/dist-packages (from tensorflow) (18.1.1)\r\n",
      "Requirement already satisfied: opt-einsum>=2.3.2 in /usr/local/lib/python3.11/dist-packages (from tensorflow) (3.4.0)\r\n",
      "Requirement already satisfied: protobuf!=4.21.0,!=4.21.1,!=4.21.2,!=4.21.3,!=4.21.4,!=4.21.5,<6.0.0dev,>=3.20.3 in /usr/local/lib/python3.11/dist-packages (from tensorflow) (3.20.3)\r\n",
      "Requirement already satisfied: requests<3,>=2.21.0 in /usr/local/lib/python3.11/dist-packages (from tensorflow) (2.32.3)\r\n",
      "Requirement already satisfied: setuptools in /usr/local/lib/python3.11/dist-packages (from tensorflow) (75.2.0)\r\n",
      "Requirement already satisfied: six>=1.12.0 in /usr/local/lib/python3.11/dist-packages (from tensorflow) (1.17.0)\r\n",
      "Requirement already satisfied: termcolor>=1.1.0 in /usr/local/lib/python3.11/dist-packages (from tensorflow) (3.0.1)\r\n",
      "Requirement already satisfied: typing-extensions>=3.6.6 in /usr/local/lib/python3.11/dist-packages (from tensorflow) (4.13.2)\r\n",
      "Requirement already satisfied: wrapt>=1.11.0 in /usr/local/lib/python3.11/dist-packages (from tensorflow) (1.17.2)\r\n",
      "Requirement already satisfied: grpcio<2.0,>=1.24.3 in /usr/local/lib/python3.11/dist-packages (from tensorflow) (1.72.0rc1)\r\n",
      "Requirement already satisfied: tensorboard<2.19,>=2.18 in /usr/local/lib/python3.11/dist-packages (from tensorflow) (2.18.0)\r\n",
      "Requirement already satisfied: keras>=3.5.0 in /usr/local/lib/python3.11/dist-packages (from tensorflow) (3.8.0)\r\n",
      "Requirement already satisfied: h5py>=3.11.0 in /usr/local/lib/python3.11/dist-packages (from tensorflow) (3.13.0)\r\n",
      "Requirement already satisfied: ml-dtypes<0.5.0,>=0.4.0 in /usr/local/lib/python3.11/dist-packages (from tensorflow) (0.4.1)\r\n",
      "Requirement already satisfied: tensorflow-io-gcs-filesystem>=0.23.1 in /usr/local/lib/python3.11/dist-packages (from tensorflow) (0.37.1)\r\n",
      "Requirement already satisfied: wheel<1.0,>=0.23.0 in /usr/local/lib/python3.11/dist-packages (from astunparse>=1.6.0->tensorflow) (0.45.1)\r\n",
      "Requirement already satisfied: rich in /usr/local/lib/python3.11/dist-packages (from keras>=3.5.0->tensorflow) (14.0.0)\r\n",
      "Requirement already satisfied: namex in /usr/local/lib/python3.11/dist-packages (from keras>=3.5.0->tensorflow) (0.0.8)\r\n",
      "Requirement already satisfied: optree in /usr/local/lib/python3.11/dist-packages (from keras>=3.5.0->tensorflow) (0.14.1)\r\n",
      "Requirement already satisfied: charset-normalizer<4,>=2 in /usr/local/lib/python3.11/dist-packages (from requests<3,>=2.21.0->tensorflow) (3.4.2)\r\n",
      "Requirement already satisfied: idna<4,>=2.5 in /usr/local/lib/python3.11/dist-packages (from requests<3,>=2.21.0->tensorflow) (3.10)\r\n",
      "Requirement already satisfied: urllib3<3,>=1.21.1 in /usr/local/lib/python3.11/dist-packages (from requests<3,>=2.21.0->tensorflow) (2.4.0)\r\n",
      "Requirement already satisfied: certifi>=2017.4.17 in /usr/local/lib/python3.11/dist-packages (from requests<3,>=2.21.0->tensorflow) (2025.4.26)\r\n",
      "Requirement already satisfied: markdown>=2.6.8 in /usr/local/lib/python3.11/dist-packages (from tensorboard<2.19,>=2.18->tensorflow) (3.7)\r\n",
      "Requirement already satisfied: tensorboard-data-server<0.8.0,>=0.7.0 in /usr/local/lib/python3.11/dist-packages (from tensorboard<2.19,>=2.18->tensorflow) (0.7.2)\r\n",
      "Requirement already satisfied: werkzeug>=1.0.1 in /usr/local/lib/python3.11/dist-packages (from tensorboard<2.19,>=2.18->tensorflow) (3.1.3)\r\n",
      "Requirement already satisfied: intel-openmp<2026,>=2024 in /usr/local/lib/python3.11/dist-packages (from mkl->numpy) (2024.2.0)\r\n",
      "Requirement already satisfied: tbb==2022.* in /usr/local/lib/python3.11/dist-packages (from mkl->numpy) (2022.1.0)\r\n",
      "Requirement already satisfied: tcmlib==1.* in /usr/local/lib/python3.11/dist-packages (from tbb==2022.*->mkl->numpy) (1.3.0)\r\n",
      "Requirement already satisfied: intel-cmplr-lib-rt in /usr/local/lib/python3.11/dist-packages (from mkl_umath->numpy) (2024.2.0)\r\n",
      "Requirement already satisfied: intel-cmplr-lib-ur==2024.2.0 in /usr/local/lib/python3.11/dist-packages (from intel-openmp<2026,>=2024->mkl->numpy) (2024.2.0)\r\n",
      "Requirement already satisfied: MarkupSafe>=2.1.1 in /usr/local/lib/python3.11/dist-packages (from werkzeug>=1.0.1->tensorboard<2.19,>=2.18->tensorflow) (3.0.2)\r\n",
      "Requirement already satisfied: markdown-it-py>=2.2.0 in /usr/local/lib/python3.11/dist-packages (from rich->keras>=3.5.0->tensorflow) (3.0.0)\r\n",
      "Requirement already satisfied: pygments<3.0.0,>=2.13.0 in /usr/local/lib/python3.11/dist-packages (from rich->keras>=3.5.0->tensorflow) (2.19.1)\r\n",
      "Requirement already satisfied: mdurl~=0.1 in /usr/local/lib/python3.11/dist-packages (from markdown-it-py>=2.2.0->rich->keras>=3.5.0->tensorflow) (0.1.2)\r\n",
      "Note: you may need to restart the kernel to use updated packages.\n"
     ]
    }
   ],
   "source": [
    "pip install numpy pandas matplotlib scikit-learn tensorflow\n"
   ]
  },
  {
   "cell_type": "code",
   "execution_count": 2,
   "id": "3d08ecf5",
   "metadata": {
    "execution": {
     "iopub.execute_input": "2025-06-22T03:46:11.657369Z",
     "iopub.status.busy": "2025-06-22T03:46:11.656478Z",
     "iopub.status.idle": "2025-06-22T03:46:27.137939Z",
     "shell.execute_reply": "2025-06-22T03:46:27.137346Z"
    },
    "papermill": {
     "duration": 15.486529,
     "end_time": "2025-06-22T03:46:27.139342",
     "exception": false,
     "start_time": "2025-06-22T03:46:11.652813",
     "status": "completed"
    },
    "tags": []
   },
   "outputs": [
    {
     "name": "stderr",
     "output_type": "stream",
     "text": [
      "2025-06-22 03:46:15.670386: E external/local_xla/xla/stream_executor/cuda/cuda_fft.cc:477] Unable to register cuFFT factory: Attempting to register factory for plugin cuFFT when one has already been registered\n",
      "WARNING: All log messages before absl::InitializeLog() is called are written to STDERR\n",
      "E0000 00:00:1750563975.863427      19 cuda_dnn.cc:8310] Unable to register cuDNN factory: Attempting to register factory for plugin cuDNN when one has already been registered\n",
      "E0000 00:00:1750563975.919664      19 cuda_blas.cc:1418] Unable to register cuBLAS factory: Attempting to register factory for plugin cuBLAS when one has already been registered\n"
     ]
    }
   ],
   "source": [
    "# 1. IMPORTS\n",
    "import numpy as np\n",
    "import pandas as pd\n",
    "import matplotlib.pyplot as plt\n",
    "\n",
    "from sklearn.preprocessing import MinMaxScaler\n",
    "from sklearn.model_selection import train_test_split\n",
    "from sklearn.metrics import classification_report, confusion_matrix, ConfusionMatrixDisplay, accuracy_score\n",
    "\n",
    "import tensorflow as tf\n",
    "from tensorflow.keras.models import Sequential\n",
    "from tensorflow.keras.layers import LSTM, Dense"
   ]
  },
  {
   "cell_type": "code",
   "execution_count": 3,
   "id": "3e8ef9ba",
   "metadata": {
    "execution": {
     "iopub.execute_input": "2025-06-22T03:46:27.146629Z",
     "iopub.status.busy": "2025-06-22T03:46:27.145918Z",
     "iopub.status.idle": "2025-06-22T03:46:27.171588Z",
     "shell.execute_reply": "2025-06-22T03:46:27.170820Z"
    },
    "papermill": {
     "duration": 0.030127,
     "end_time": "2025-06-22T03:46:27.172635",
     "exception": false,
     "start_time": "2025-06-22T03:46:27.142508",
     "status": "completed"
    },
    "tags": []
   },
   "outputs": [
    {
     "name": "stdout",
     "output_type": "stream",
     "text": [
      "             timestamp  current1  voltage1  current2  voltage2  label\n",
      "0  08-06-2025 04:08 PM      1.27      11.2      1.14      11.7      0\n",
      "1  08-06-2025 03:45 PM      1.26      11.6      1.23      12.0      0\n",
      "2  08-06-2025 07:34 PM      1.79      11.7      1.00      11.9      1\n",
      "3  08-06-2025 03:52 PM      1.25      12.4      1.09      11.7      0\n",
      "4  08-06-2025 12:52 PM      1.40      11.2      1.20      11.2      0\n",
      "timestamp     object\n",
      "current1     float64\n",
      "voltage1     float64\n",
      "current2     float64\n",
      "voltage2     float64\n",
      "label          int64\n",
      "dtype: object\n"
     ]
    }
   ],
   "source": [
    "import pandas as pd\n",
    "\n",
    "df = pd.read_csv(\"/kaggle/input/sensor-data/sensor_data.csv\")\n",
    "\n",
    "# Preview the data\n",
    "print(df.head())\n",
    "print(df.dtypes)"
   ]
  },
  {
   "cell_type": "code",
   "execution_count": 4,
   "id": "9b6f4c2e",
   "metadata": {
    "execution": {
     "iopub.execute_input": "2025-06-22T03:46:27.179242Z",
     "iopub.status.busy": "2025-06-22T03:46:27.179024Z",
     "iopub.status.idle": "2025-06-22T03:46:27.191495Z",
     "shell.execute_reply": "2025-06-22T03:46:27.190980Z"
    },
    "papermill": {
     "duration": 0.016952,
     "end_time": "2025-06-22T03:46:27.192544",
     "exception": false,
     "start_time": "2025-06-22T03:46:27.175592",
     "status": "completed"
    },
    "tags": []
   },
   "outputs": [],
   "source": [
    "from sklearn.preprocessing import MinMaxScaler\n",
    "\n",
    "features = ['current1', 'voltage1', 'current2', 'voltage2']\n",
    "scaler = MinMaxScaler()\n",
    "df[features] = scaler.fit_transform(df[features])"
   ]
  },
  {
   "cell_type": "code",
   "execution_count": 5,
   "id": "7217f304",
   "metadata": {
    "execution": {
     "iopub.execute_input": "2025-06-22T03:46:27.199099Z",
     "iopub.status.busy": "2025-06-22T03:46:27.198878Z",
     "iopub.status.idle": "2025-06-22T03:46:27.413258Z",
     "shell.execute_reply": "2025-06-22T03:46:27.412455Z"
    },
    "papermill": {
     "duration": 0.218983,
     "end_time": "2025-06-22T03:46:27.414479",
     "exception": false,
     "start_time": "2025-06-22T03:46:27.195496",
     "status": "completed"
    },
    "tags": []
   },
   "outputs": [
    {
     "name": "stdout",
     "output_type": "stream",
     "text": [
      "X shape: (490, 10, 4)\n",
      "y shape: (490,)\n"
     ]
    }
   ],
   "source": [
    "import numpy as np\n",
    "\n",
    "sequence_length = 10\n",
    "X = []\n",
    "y = []\n",
    "\n",
    "for i in range(len(df) - sequence_length):\n",
    "    X.append(df[features].iloc[i:i + sequence_length].values)\n",
    "    y.append(df['label'].iloc[i + sequence_length - 1])\n",
    "\n",
    "X = np.array(X)\n",
    "y = np.array(y)\n",
    "\n",
    "print(\"X shape:\", X.shape)  # Should be (samples, 10, 4)\n",
    "print(\"y shape:\", y.shape)  # Should be (samples,)"
   ]
  },
  {
   "cell_type": "code",
   "execution_count": 6,
   "id": "ea1cbbfc",
   "metadata": {
    "execution": {
     "iopub.execute_input": "2025-06-22T03:46:27.421397Z",
     "iopub.status.busy": "2025-06-22T03:46:27.421159Z",
     "iopub.status.idle": "2025-06-22T03:46:27.428322Z",
     "shell.execute_reply": "2025-06-22T03:46:27.427697Z"
    },
    "papermill": {
     "duration": 0.011676,
     "end_time": "2025-06-22T03:46:27.429317",
     "exception": false,
     "start_time": "2025-06-22T03:46:27.417641",
     "status": "completed"
    },
    "tags": []
   },
   "outputs": [
    {
     "name": "stdout",
     "output_type": "stream",
     "text": [
      "(245, 10, 4) (245, 10, 4)\n",
      "(245,) (245,)\n"
     ]
    }
   ],
   "source": [
    "from sklearn.model_selection import train_test_split\n",
    "\n",
    "X_train, X_test, y_train, y_test = train_test_split(\n",
    "    X, y, test_size=0.5, stratify=y, random_state=42\n",
    ")\n",
    "\n",
    "print(X_train.shape, X_test.shape)\n",
    "print(y_train.shape, y_test.shape)"
   ]
  },
  {
   "cell_type": "code",
   "execution_count": 7,
   "id": "175f8f13",
   "metadata": {
    "execution": {
     "iopub.execute_input": "2025-06-22T03:46:27.435829Z",
     "iopub.status.busy": "2025-06-22T03:46:27.435620Z",
     "iopub.status.idle": "2025-06-22T03:46:36.333328Z",
     "shell.execute_reply": "2025-06-22T03:46:36.332600Z"
    },
    "papermill": {
     "duration": 8.902404,
     "end_time": "2025-06-22T03:46:36.334670",
     "exception": false,
     "start_time": "2025-06-22T03:46:27.432266",
     "status": "completed"
    },
    "tags": []
   },
   "outputs": [
    {
     "name": "stderr",
     "output_type": "stream",
     "text": [
      "I0000 00:00:1750563988.618048      19 gpu_device.cc:2022] Created device /job:localhost/replica:0/task:0/device:GPU:0 with 13942 MB memory:  -> device: 0, name: Tesla T4, pci bus id: 0000:00:04.0, compute capability: 7.5\n",
      "I0000 00:00:1750563988.618708      19 gpu_device.cc:2022] Created device /job:localhost/replica:0/task:0/device:GPU:1 with 13942 MB memory:  -> device: 1, name: Tesla T4, pci bus id: 0000:00:05.0, compute capability: 7.5\n",
      "/usr/local/lib/python3.11/dist-packages/keras/src/layers/rnn/rnn.py:200: UserWarning: Do not pass an `input_shape`/`input_dim` argument to a layer. When using Sequential models, prefer using an `Input(shape)` object as the first layer in the model instead.\n",
      "  super().__init__(**kwargs)\n"
     ]
    },
    {
     "name": "stdout",
     "output_type": "stream",
     "text": [
      "Epoch 1/20\n"
     ]
    },
    {
     "name": "stderr",
     "output_type": "stream",
     "text": [
      "I0000 00:00:1750563992.702265      64 cuda_dnn.cc:529] Loaded cuDNN version 90300\n"
     ]
    },
    {
     "name": "stdout",
     "output_type": "stream",
     "text": [
      "\u001b[1m8/8\u001b[0m \u001b[32m━━━━━━━━━━━━━━━━━━━━\u001b[0m\u001b[37m\u001b[0m \u001b[1m4s\u001b[0m 62ms/step - accuracy: 0.5382 - loss: 0.6900 - val_accuracy: 0.6735 - val_loss: 0.6848\n",
      "Epoch 2/20\n",
      "\u001b[1m8/8\u001b[0m \u001b[32m━━━━━━━━━━━━━━━━━━━━\u001b[0m\u001b[37m\u001b[0m \u001b[1m0s\u001b[0m 14ms/step - accuracy: 0.6145 - loss: 0.6826 - val_accuracy: 0.5061 - val_loss: 0.6796\n",
      "Epoch 3/20\n",
      "\u001b[1m8/8\u001b[0m \u001b[32m━━━━━━━━━━━━━━━━━━━━\u001b[0m\u001b[37m\u001b[0m \u001b[1m0s\u001b[0m 15ms/step - accuracy: 0.5274 - loss: 0.6768 - val_accuracy: 0.6327 - val_loss: 0.6724\n",
      "Epoch 4/20\n",
      "\u001b[1m8/8\u001b[0m \u001b[32m━━━━━━━━━━━━━━━━━━━━\u001b[0m\u001b[37m\u001b[0m \u001b[1m0s\u001b[0m 15ms/step - accuracy: 0.6892 - loss: 0.6705 - val_accuracy: 0.7551 - val_loss: 0.6651\n",
      "Epoch 5/20\n",
      "\u001b[1m8/8\u001b[0m \u001b[32m━━━━━━━━━━━━━━━━━━━━\u001b[0m\u001b[37m\u001b[0m \u001b[1m0s\u001b[0m 14ms/step - accuracy: 0.7891 - loss: 0.6636 - val_accuracy: 0.7469 - val_loss: 0.6573\n",
      "Epoch 6/20\n",
      "\u001b[1m8/8\u001b[0m \u001b[32m━━━━━━━━━━━━━━━━━━━━\u001b[0m\u001b[37m\u001b[0m \u001b[1m0s\u001b[0m 14ms/step - accuracy: 0.7687 - loss: 0.6538 - val_accuracy: 0.7102 - val_loss: 0.6478\n",
      "Epoch 7/20\n",
      "\u001b[1m8/8\u001b[0m \u001b[32m━━━━━━━━━━━━━━━━━━━━\u001b[0m\u001b[37m\u001b[0m \u001b[1m0s\u001b[0m 14ms/step - accuracy: 0.7315 - loss: 0.6361 - val_accuracy: 0.7673 - val_loss: 0.6349\n",
      "Epoch 8/20\n",
      "\u001b[1m8/8\u001b[0m \u001b[32m━━━━━━━━━━━━━━━━━━━━\u001b[0m\u001b[37m\u001b[0m \u001b[1m0s\u001b[0m 14ms/step - accuracy: 0.7933 - loss: 0.6315 - val_accuracy: 0.7469 - val_loss: 0.6210\n",
      "Epoch 9/20\n",
      "\u001b[1m8/8\u001b[0m \u001b[32m━━━━━━━━━━━━━━━━━━━━\u001b[0m\u001b[37m\u001b[0m \u001b[1m0s\u001b[0m 14ms/step - accuracy: 0.8356 - loss: 0.6086 - val_accuracy: 0.8163 - val_loss: 0.5974\n",
      "Epoch 10/20\n",
      "\u001b[1m8/8\u001b[0m \u001b[32m━━━━━━━━━━━━━━━━━━━━\u001b[0m\u001b[37m\u001b[0m \u001b[1m0s\u001b[0m 14ms/step - accuracy: 0.8087 - loss: 0.5888 - val_accuracy: 0.8082 - val_loss: 0.5627\n",
      "Epoch 11/20\n",
      "\u001b[1m8/8\u001b[0m \u001b[32m━━━━━━━━━━━━━━━━━━━━\u001b[0m\u001b[37m\u001b[0m \u001b[1m0s\u001b[0m 14ms/step - accuracy: 0.8367 - loss: 0.5472 - val_accuracy: 0.7837 - val_loss: 0.5371\n",
      "Epoch 12/20\n",
      "\u001b[1m8/8\u001b[0m \u001b[32m━━━━━━━━━━━━━━━━━━━━\u001b[0m\u001b[37m\u001b[0m \u001b[1m0s\u001b[0m 14ms/step - accuracy: 0.7817 - loss: 0.5260 - val_accuracy: 0.8735 - val_loss: 0.4905\n",
      "Epoch 13/20\n",
      "\u001b[1m8/8\u001b[0m \u001b[32m━━━━━━━━━━━━━━━━━━━━\u001b[0m\u001b[37m\u001b[0m \u001b[1m0s\u001b[0m 14ms/step - accuracy: 0.9190 - loss: 0.4649 - val_accuracy: 0.8857 - val_loss: 0.4541\n",
      "Epoch 14/20\n",
      "\u001b[1m8/8\u001b[0m \u001b[32m━━━━━━━━━━━━━━━━━━━━\u001b[0m\u001b[37m\u001b[0m \u001b[1m0s\u001b[0m 14ms/step - accuracy: 0.9246 - loss: 0.4159 - val_accuracy: 0.8816 - val_loss: 0.4197\n",
      "Epoch 15/20\n",
      "\u001b[1m8/8\u001b[0m \u001b[32m━━━━━━━━━━━━━━━━━━━━\u001b[0m\u001b[37m\u001b[0m \u001b[1m0s\u001b[0m 15ms/step - accuracy: 0.9040 - loss: 0.3927 - val_accuracy: 0.8816 - val_loss: 0.3884\n",
      "Epoch 16/20\n",
      "\u001b[1m8/8\u001b[0m \u001b[32m━━━━━━━━━━━━━━━━━━━━\u001b[0m\u001b[37m\u001b[0m \u001b[1m0s\u001b[0m 14ms/step - accuracy: 0.9025 - loss: 0.3560 - val_accuracy: 0.7551 - val_loss: 0.4381\n",
      "Epoch 17/20\n",
      "\u001b[1m8/8\u001b[0m \u001b[32m━━━━━━━━━━━━━━━━━━━━\u001b[0m\u001b[37m\u001b[0m \u001b[1m0s\u001b[0m 14ms/step - accuracy: 0.8875 - loss: 0.3532 - val_accuracy: 0.8408 - val_loss: 0.3862\n",
      "Epoch 18/20\n",
      "\u001b[1m8/8\u001b[0m \u001b[32m━━━━━━━━━━━━━━━━━━━━\u001b[0m\u001b[37m\u001b[0m \u001b[1m0s\u001b[0m 14ms/step - accuracy: 0.8789 - loss: 0.3392 - val_accuracy: 0.8653 - val_loss: 0.3391\n",
      "Epoch 19/20\n",
      "\u001b[1m8/8\u001b[0m \u001b[32m━━━━━━━━━━━━━━━━━━━━\u001b[0m\u001b[37m\u001b[0m \u001b[1m0s\u001b[0m 14ms/step - accuracy: 0.9145 - loss: 0.2761 - val_accuracy: 0.8653 - val_loss: 0.3266\n",
      "Epoch 20/20\n",
      "\u001b[1m8/8\u001b[0m \u001b[32m━━━━━━━━━━━━━━━━━━━━\u001b[0m\u001b[37m\u001b[0m \u001b[1m0s\u001b[0m 14ms/step - accuracy: 0.8875 - loss: 0.2789 - val_accuracy: 0.8735 - val_loss: 0.3245\n"
     ]
    }
   ],
   "source": [
    "from tensorflow.keras.models import Sequential\n",
    "from tensorflow.keras.layers import LSTM, Dense\n",
    "\n",
    "# Build the model\n",
    "model = Sequential([\n",
    "    LSTM(64, input_shape=(10, 4)),\n",
    "    Dense(32, activation='relu'),\n",
    "    Dense(1, activation='sigmoid')\n",
    "])\n",
    "\n",
    "# Compile\n",
    "model.compile(optimizer='adam', loss='binary_crossentropy', metrics=['accuracy'])\n",
    "\n",
    "# Train\n",
    "history = model.fit(\n",
    "    X_train, y_train,\n",
    "    validation_data=(X_test, y_test),\n",
    "    epochs=20,\n",
    "    batch_size=32\n",
    ")"
   ]
  },
  {
   "cell_type": "code",
   "execution_count": 8,
   "id": "0db56363",
   "metadata": {
    "execution": {
     "iopub.execute_input": "2025-06-22T03:46:36.347053Z",
     "iopub.status.busy": "2025-06-22T03:46:36.346795Z",
     "iopub.status.idle": "2025-06-22T03:46:36.953287Z",
     "shell.execute_reply": "2025-06-22T03:46:36.952541Z"
    },
    "papermill": {
     "duration": 0.613637,
     "end_time": "2025-06-22T03:46:36.954345",
     "exception": false,
     "start_time": "2025-06-22T03:46:36.340708",
     "status": "completed"
    },
    "tags": []
   },
   "outputs": [
    {
     "name": "stdout",
     "output_type": "stream",
     "text": [
      "\u001b[1m8/8\u001b[0m \u001b[32m━━━━━━━━━━━━━━━━━━━━\u001b[0m\u001b[37m\u001b[0m \u001b[1m0s\u001b[0m 21ms/step\n",
      "\n",
      "Classification Report:\n",
      "              precision    recall  f1-score   support\n",
      "\n",
      "           0       0.98      0.76      0.86       122\n",
      "           1       0.81      0.98      0.89       123\n",
      "\n",
      "    accuracy                           0.87       245\n",
      "   macro avg       0.89      0.87      0.87       245\n",
      "weighted avg       0.89      0.87      0.87       245\n",
      "\n"
     ]
    },
    {
     "data": {
      "text/plain": [
       "<sklearn.metrics._plot.confusion_matrix.ConfusionMatrixDisplay at 0x7e08f338e0d0>"
      ]
     },
     "execution_count": 8,
     "metadata": {},
     "output_type": "execute_result"
    },
    {
     "data": {
      "image/png": "[encoded data removed]",
      "text/plain": [
       "<Figure size 640x480 with 2 Axes>"
      ]
     },
     "metadata": {},
     "output_type": "display_data"
    }
   ],
   "source": [
    "from sklearn.metrics import classification_report, confusion_matrix, ConfusionMatrixDisplay\n",
    "\n",
    "# Predict on test set\n",
    "y_pred = (model.predict(X_test) > 0.5).astype(\"int32\")\n",
    "\n",
    "# Classification report\n",
    "print(\"\\nClassification Report:\")\n",
    "print(classification_report(y_test, y_pred))\n",
    "\n",
    "# Confusion matrix\n",
    "ConfusionMatrixDisplay(confusion_matrix(y_test, y_pred), display_labels=[\"Normal\", \"Theft\"]).plot()"
   ]
  },
  {
   "cell_type": "code",
   "execution_count": 9,
   "id": "c8d99159",
   "metadata": {
    "execution": {
     "iopub.execute_input": "2025-06-22T03:46:36.967894Z",
     "iopub.status.busy": "2025-06-22T03:46:36.967671Z",
     "iopub.status.idle": "2025-06-22T03:46:37.058864Z",
     "shell.execute_reply": "2025-06-22T03:46:37.058225Z"
    },
    "papermill": {
     "duration": 0.099074,
     "end_time": "2025-06-22T03:46:37.059877",
     "exception": false,
     "start_time": "2025-06-22T03:46:36.960803",
     "status": "completed"
    },
    "tags": []
   },
   "outputs": [
    {
     "name": "stdout",
     "output_type": "stream",
     "text": [
      "\u001b[1m8/8\u001b[0m \u001b[32m━━━━━━━━━━━━━━━━━━━━\u001b[0m\u001b[37m\u001b[0m \u001b[1m0s\u001b[0m 3ms/step \n",
      "True: 1, Predicted: 0.8998\n",
      "True: 0, Predicted: 0.0382\n",
      "True: 1, Predicted: 0.6560\n",
      "True: 1, Predicted: 0.7183\n",
      "True: 1, Predicted: 0.8433\n",
      "True: 1, Predicted: 0.6045\n",
      "True: 1, Predicted: 0.5868\n",
      "True: 1, Predicted: 0.9208\n",
      "True: 1, Predicted: 0.9084\n",
      "True: 0, Predicted: 0.1919\n"
     ]
    }
   ],
   "source": [
    "# Get predicted probabilities (confidence scores)\n",
    "y_prob = model.predict(X_test)  # Values between 0 and 1\n",
    "\n",
    "# Show first 10 scores alongside true labels\n",
    "for i in range(10):\n",
    "    print(f\"True: {y_test[i]}, Predicted: {y_prob[i][0]:.4f}\")"
   ]
  },
  {
   "cell_type": "code",
   "execution_count": 10,
   "id": "e9852dec",
   "metadata": {
    "execution": {
     "iopub.execute_input": "2025-06-22T03:46:37.073349Z",
     "iopub.status.busy": "2025-06-22T03:46:37.072892Z",
     "iopub.status.idle": "2025-06-22T03:46:37.243525Z",
     "shell.execute_reply": "2025-06-22T03:46:37.242771Z"
    },
    "papermill": {
     "duration": 0.178284,
     "end_time": "2025-06-22T03:46:37.244666",
     "exception": false,
     "start_time": "2025-06-22T03:46:37.066382",
     "status": "completed"
    },
    "tags": []
   },
   "outputs": [
    {
     "data": {
      "image/png": "[encoded data removed]",
      "text/plain": [
       "<Figure size 640x480 with 1 Axes>"
      ]
     },
     "metadata": {},
     "output_type": "display_data"
    }
   ],
   "source": [
    "import matplotlib.pyplot as plt\n",
    "\n",
    "plt.plot(history.history['accuracy'], label='Train Accuracy')\n",
    "plt.plot(history.history['val_accuracy'], label='Validation Accuracy')\n",
    "plt.xlabel('Epoch')\n",
    "plt.ylabel('Accuracy')\n",
    "plt.title('Training vs Validation Accuracy')\n",
    "plt.legend()\n",
    "plt.grid(True)\n",
    "plt.show()"
   ]
  },
  {
   "cell_type": "code",
   "execution_count": 11,
   "id": "17170df4",
   "metadata": {
    "execution": {
     "iopub.execute_input": "2025-06-22T03:46:37.259499Z",
     "iopub.status.busy": "2025-06-22T03:46:37.259131Z",
     "iopub.status.idle": "2025-06-22T03:46:37.294233Z",
     "shell.execute_reply": "2025-06-22T03:46:37.293533Z"
    },
    "papermill": {
     "duration": 0.043695,
     "end_time": "2025-06-22T03:46:37.295433",
     "exception": false,
     "start_time": "2025-06-22T03:46:37.251738",
     "status": "completed"
    },
    "tags": []
   },
   "outputs": [],
   "source": [
    "model.save(\"model.h5\")"
   ]
  },
  {
   "cell_type": "code",
   "execution_count": 12,
   "id": "ed0baa2f",
   "metadata": {
    "execution": {
     "iopub.execute_input": "2025-06-22T03:46:37.309692Z",
     "iopub.status.busy": "2025-06-22T03:46:37.309508Z",
     "iopub.status.idle": "2025-06-22T03:46:37.313718Z",
     "shell.execute_reply": "2025-06-22T03:46:37.313241Z"
    },
    "papermill": {
     "duration": 0.012375,
     "end_time": "2025-06-22T03:46:37.314678",
     "exception": false,
     "start_time": "2025-06-22T03:46:37.302303",
     "status": "completed"
    },
    "tags": []
   },
   "outputs": [
    {
     "data": {
      "text/plain": [
       "['model.h5', '__notebook__.ipynb']"
      ]
     },
     "execution_count": 12,
     "metadata": {},
     "output_type": "execute_result"
    }
   ],
   "source": [
    "import os\n",
    "os.listdir(\"/kaggle/working\")"
   ]
  },
  {
   "cell_type": "code",
   "execution_count": 13,
   "id": "39036338",
   "metadata": {
    "execution": {
     "iopub.execute_input": "2025-06-22T03:46:37.329034Z",
     "iopub.status.busy": "2025-06-22T03:46:37.328815Z",
     "iopub.status.idle": "2025-06-22T03:46:37.432431Z",
     "shell.execute_reply": "2025-06-22T03:46:37.431705Z"
    },
    "papermill": {
     "duration": 0.112093,
     "end_time": "2025-06-22T03:46:37.433587",
     "exception": false,
     "start_time": "2025-06-22T03:46:37.321494",
     "status": "completed"
    },
    "tags": []
   },
   "outputs": [
    {
     "name": "stdout",
     "output_type": "stream",
     "text": [
      "\u001b[1m8/8\u001b[0m \u001b[32m━━━━━━━━━━━━━━━━━━━━\u001b[0m\u001b[37m\u001b[0m \u001b[1m0s\u001b[0m 5ms/step - accuracy: 0.8844 - loss: 0.3040 \n",
      "✅ Test Accuracy: 87.35%\n"
     ]
    }
   ],
   "source": [
    "loss, accuracy = model.evaluate(X_test, y_test)\n",
    "print(f\"✅ Test Accuracy: {accuracy:.2%}\")"
   ]
  },
  {
   "cell_type": "code",
   "execution_count": 14,
   "id": "b3180cc8",
   "metadata": {
    "execution": {
     "iopub.execute_input": "2025-06-22T03:46:37.448527Z",
     "iopub.status.busy": "2025-06-22T03:46:37.448306Z",
     "iopub.status.idle": "2025-06-22T03:46:37.647528Z",
     "shell.execute_reply": "2025-06-22T03:46:37.646490Z"
    },
    "papermill": {
     "duration": 0.207936,
     "end_time": "2025-06-22T03:46:37.648847",
     "exception": false,
     "start_time": "2025-06-22T03:46:37.440911",
     "status": "completed"
    },
    "tags": []
   },
   "outputs": [
    {
     "name": "stdout",
     "output_type": "stream",
     "text": [
      "✅ Final Test Accuracy: 0.8735\n",
      "\u001b[1m8/8\u001b[0m \u001b[32m━━━━━━━━━━━━━━━━━━━━\u001b[0m\u001b[37m\u001b[0m \u001b[1m0s\u001b[0m 4ms/step \n",
      "\n",
      "📄 Classification Report:\n",
      "              precision    recall  f1-score   support\n",
      "\n",
      "           0       0.98      0.76      0.86       122\n",
      "           1       0.81      0.98      0.89       123\n",
      "\n",
      "    accuracy                           0.87       245\n",
      "   macro avg       0.89      0.87      0.87       245\n",
      "weighted avg       0.89      0.87      0.87       245\n",
      "\n"
     ]
    }
   ],
   "source": [
    "# Accuracy\n",
    "loss, accuracy = model.evaluate(X_test, y_test, verbose=0)\n",
    "print(f\"✅ Final Test Accuracy: {accuracy:.4f}\")\n",
    "\n",
    "# Classification report\n",
    "from sklearn.metrics import classification_report\n",
    "y_pred = (model.predict(X_test) > 0.5).astype(\"int32\")\n",
    "print(\"\\n📄 Classification Report:\")\n",
    "print(classification_report(y_test, y_pred))"
   ]
  }
 ],
 "metadata": {
  "kaggle": {
   "accelerator": "nvidiaTeslaT4",
   "dataSources": [
    {
     "datasetId": 7643246,
     "sourceId": 12136830,
     "sourceType": "datasetVersion"
    }
   ],
   "dockerImageVersionId": 31041,
   "isGpuEnabled": true,
   "isInternetEnabled": true,
   "language": "python",
   "sourceType": "notebook"
  },
  "kernelspec": {
   "display_name": "Python 3",
   "language": "python",
   "name": "python3"
  },
  "language_info": {
   "codemirror_mode": {
    "name": "ipython",
    "version": 3
   },
   "file_extension": ".py",
   "mimetype": "text/x-python",
   "name": "python",
   "nbconvert_exporter": "python",
   "pygments_lexer": "ipython3",
   "version": "3.11.11"
  },
  "papermill": {
   "default_parameters": {},
   "duration": 37.152861,
   "end_time": "2025-06-22T03:46:40.878779",
   "environment_variables": {},
   "exception": null,
   "input_path": "__notebook__.ipynb",
   "output_path": "__notebook__.ipynb",
   "parameters": {},
   "start_time": "2025-06-22T03:46:03.725918",
   "version": "2.6.0"
  }
 },
 "nbformat": 4,
 "nbformat_minor": 5
}
